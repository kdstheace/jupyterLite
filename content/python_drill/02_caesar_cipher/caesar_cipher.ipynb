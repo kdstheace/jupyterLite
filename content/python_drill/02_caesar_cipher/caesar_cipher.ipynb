{
  "cells": [
    {
      "cell_type": "code",
      "execution_count": 4,
      "metadata": {},
      "outputs": [
        {
          "name": "stdout",
          "output_type": "stream",
          "text": [
            "The decoded text is civilization !@# 12 hellozz\n"
          ]
        }
      ],
      "source": [
        "alphabet = ['a', 'b', 'c', 'd', 'e', 'f', 'g', 'h', 'i', 'j', 'k', 'l', 'm', 'n', 'o', 'p', 'q', 'r', 's', 't', 'u', 'v', 'w', 'x', 'y', 'z'\n",
        ", 'a', 'b', 'c', 'd', 'e', 'f', 'g', 'h', 'i', 'j', 'k', 'l', 'm', 'n', 'o', 'p', 'q', 'r', 's', 't', 'u', 'v', 'w', 'x', 'y', 'z']\n",
        "\n",
        "\n",
        "def caesar(given_text, shift_amount, cipher_direction):\n",
        "    result_text = \"\"\n",
        "    \n",
        "    if cipher_direction == \"decode\":\n",
        "        shift_amount *= -1\n",
        "    for letter in given_text:\n",
        "        if not letter.isalpha():\n",
        "            result_text += letter\n",
        "        else:\n",
        "            new_index = alphabet.index(letter) + shift_amount\n",
        "            if new_index > len(alphabet)-1 or new_index < 0:\n",
        "                new_index %= len(alphabet)\n",
        "            result_text += alphabet[new_index]\n",
        "        \n",
        "    print(f\"The {cipher_direction}d text is {result_text}\")\n",
        "\n",
        "    \n",
        "continue_check = True\n",
        "while continue_check:\n",
        "    direction = input(\"Type 'encode' to encrypt, type 'decode' to decrypt:\\n\")\n",
        "    text = input(\"Type your message:\\n\").lower()\n",
        "    shift = int(input(\"Type the shift number:\\n\"))\n",
        "\n",
        "    caesar(given_text = text, shift_amount = shift, cipher_direction = direction)\n",
        "    continue_yn = input(\"Type 'yes' if you want to go again. Otherwise type 'no'\").lower()\n",
        "    if continue_yn == \"no\":\n",
        "        continue_check = False\n",
        "        print(\"Good bye\")\n",
        "\n"
      ]
    }
  ],
  "metadata": {
    "kernelspec": {
      "display_name": "base",
      "language": "python",
      "name": "python3"
    },
    "language_info": {
      "codemirror_mode": {
        "name": "ipython",
        "version": 3
      },
      "file_extension": ".py",
      "mimetype": "text/x-python",
      "name": "python",
      "nbconvert_exporter": "python",
      "pygments_lexer": "ipython3",
      "version": "3.9.13 (main, Aug 25 2022, 23:51:50) [MSC v.1916 64 bit (AMD64)]"
    },
    "orig_nbformat": 4,
    "vscode": {
      "interpreter": {
        "hash": "dc898a6ec5997a81518b8543fd1b27667e8f1202cf4e7e6728c1345a7729fd5a"
      }
    }
  },
  "nbformat": 4,
  "nbformat_minor": 4
}
