{
  "cells": [
    {
      "cell_type": "code",
      "execution_count": 1,
      "metadata": {},
      "outputs": [],
      "source": [
        "import random\n",
        "from hangman_stage import stages\n",
        "# import hangman_stage\n",
        "from hangman_word_list import word_list\n",
        "# import hangman_word_list\n",
        "\n",
        "chosen_word = random.choice(word_list)\n",
        "word_length = len(chosen_word)\n",
        "lives = 6\n",
        "\n",
        "print(f\"pssst, the chosen word is {chosen_word}\")\n",
        "display = [\"_\"] * word_length\n",
        "trial = 0\n",
        "while lives > 0 and '_' in display:\n",
        "    trial += 1\n",
        "    print(f\"\\n\\n<<trial: {trial}>>\")\n",
        "    guess = input(\"Guess a letter: \").lower()\n",
        "    if guess in display:\n",
        "        print(f\"You've already guessed : {guess}\")\n",
        "    if guess not in chosen_word:\n",
        "        lives -= 1\n",
        "        print(f\"You guessed : {guess}, that's not in the word. You lose a life\")\n",
        "    for index in range(word_length):\n",
        "        if chosen_word[index] == guess:\n",
        "            display[index] = guess\n",
        "\n",
        "    print(stages[lives])\n",
        "    print(display)\n",
        "\n",
        "# if lives > 0:\n",
        "#     print(\"You win\")\n",
        "# else:\n",
        "#     print(\"You lose\")\n",
        "\n",
        "if \"_\" not in display:\n",
        "    print(\"You Win\")\n",
        "else:\n",
        "    print(\"You Lose\")\n"
      ]
    }
  ],
  "metadata": {
    "kernelspec": {
      "display_name": "base",
      "language": "python",
      "name": "python3"
    },
    "language_info": {
      "codemirror_mode": {
        "name": "ipython",
        "version": 3
      },
      "file_extension": ".py",
      "mimetype": "text/x-python",
      "name": "python",
      "nbconvert_exporter": "python",
      "pygments_lexer": "ipython3",
      "version": "3.9.13"
    },
    "orig_nbformat": 4,
    "vscode": {
      "interpreter": {
        "hash": "dc898a6ec5997a81518b8543fd1b27667e8f1202cf4e7e6728c1345a7729fd5a"
      }
    }
  },
  "nbformat": 4,
  "nbformat_minor": 4
}
