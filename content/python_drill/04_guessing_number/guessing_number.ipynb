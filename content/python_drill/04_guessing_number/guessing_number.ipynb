{
 "cells": [
  {
   "cell_type": "code",
   "execution_count": 1,
   "metadata": {},
   "outputs": [
    {
     "name": "stdout",
     "output_type": "stream",
     "text": [
      "Welcome to the Number Guessing Game!\n",
      "I'm thinking of a number between 1 and 100.\n",
      "--------------------------\n",
      "Pssst, the answer is 42\n",
      "--------------------------\n",
      "\n",
      "You have 5 attempts remaining to guess the number.\n",
      "Too High\n",
      "Guess Again\n",
      "\n",
      "You have 4 attempts remaining to guess the number.\n",
      "Too Low\n",
      "Guess Again\n",
      "\n",
      "You have 3 attempts remaining to guess the number.\n",
      "Too Low\n",
      "Guess Again\n",
      "\n",
      "You have 2 attempts remaining to guess the number.\n",
      "Too Low\n",
      "Guess Again\n",
      "\n",
      "You have 1 attempts remaining to guess the number.\n",
      "You Are Right! The answer is 42\n"
     ]
    }
   ],
   "source": [
    "from random import randint\n",
    "\n",
    "#Declare the number of turns as global constants\n",
    "EASY_TURNS = 10\n",
    "HARD_TURNS = 5\n",
    "\n",
    "\n",
    "#Function to check user's guess against actual answer\n",
    "def check_guess(guess, answer, attempts):\n",
    "    if guess > answer:\n",
    "        print(\"Too High\")\n",
    "        return attempts - 1\n",
    "    elif guess < answer:\n",
    "        print(\"Too Low\")\n",
    "        return attempts - 1\n",
    "    else:\n",
    "        print(f\"You Are Right! The answer is {answer}\")\n",
    "\n",
    "\n",
    "#Function to set difficulty\n",
    "def set_difficulty():\n",
    "    level = input(\"Choose a difficulty. Type 'easy' or 'hard': \")\n",
    "    if level.lower() == \"easy\":\n",
    "        return EASY_TURNS\n",
    "    else:\n",
    "        return HARD_TURNS\n",
    "\n",
    "\n",
    "#Function to run game\n",
    "def game():\n",
    "  #Choosing a random number between 1 and 100.\n",
    "  print(\"Welcome to the Number Guessing Game!\")\n",
    "  print(\"I'm thinking of a number between 1 and 100.\")\n",
    "  answer = randint(1, 100)\n",
    "  print(\"--------------------------\")\n",
    "  print(f\"Pssst, the answer is {answer}\")\n",
    "  print(\"--------------------------\")\n",
    "\n",
    "  attempts = set_difficulty()\n",
    "  #Repeat the guessing functionality if they get it wrong.\n",
    "  guess = 0\n",
    "  while guess != answer:\n",
    "    print(\"\")\n",
    "    print(f\"You have {attempts} attempts remaining to guess the number.\")\n",
    "    guess = int(input(\">>> Make a guess: \"))\n",
    "\n",
    "    attempts = check_guess(guess=guess, answer=answer, attempts=attempts)\n",
    "    \n",
    "    if attempts == 0:\n",
    "      print(\"You've run out of guesses, you lose.\")\n",
    "      return\n",
    "    elif guess != answer:\n",
    "      print(\"Guess Again\")\n",
    "\n",
    "game()\n"
   ]
  }
 ],
 "metadata": {
  "kernelspec": {
   "display_name": "base",
   "language": "python",
   "name": "python3"
  },
  "language_info": {
   "codemirror_mode": {
    "name": "ipython",
    "version": 3
   },
   "file_extension": ".py",
   "mimetype": "text/x-python",
   "name": "python",
   "nbconvert_exporter": "python",
   "pygments_lexer": "ipython3",
   "version": "3.9.13"
  },
  "orig_nbformat": 4,
  "vscode": {
   "interpreter": {
    "hash": "dc898a6ec5997a81518b8543fd1b27667e8f1202cf4e7e6728c1345a7729fd5a"
   }
  }
 },
 "nbformat": 4,
 "nbformat_minor": 2
}
