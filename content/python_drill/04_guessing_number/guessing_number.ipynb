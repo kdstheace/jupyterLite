{
 "cells": [
  {
   "cell_type": "code",
   "execution_count": 2,
   "metadata": {},
   "outputs": [
    {
     "name": "stdout",
     "output_type": "stream",
     "text": [
      "Welcome to the Number Guessing Game!\n",
      "I'm thinking of a number between 1 and 100\n",
      "higher than 50, 4 lives left.\n",
      "higher than 70, 3 lives left.\n",
      "lower than 90, 2 lives left.\n",
      "higher than 80, 1 lives left.\n",
      "lower than 87, 0 lives left.\n",
      "You lose\n"
     ]
    }
   ],
   "source": [
    "import random\n",
    "\n",
    "print(\"Welcome to the Number Guessing Game!\")\n",
    "print(\"I'm thinking of a number between 1 and 100\")\n",
    "answer = random.randint(1, 101)\n",
    "difficulty = input(\"Choose a difficulty. Type 'easy' or 'hard: \").lower()\n",
    "attempts = 0\n",
    "if difficulty == \"easy\":\n",
    "    attempts = 10\n",
    "else:\n",
    "    attempts = 5\n",
    "\n",
    "should_continue = True\n",
    "while attempts > 0 and should_continue:\n",
    "    guess = int(input(\"Make a guess: \"))\n",
    "    if guess > answer:\n",
    "        attempts -= 1\n",
    "        print(f\"lower than {guess}, {attempts} lives left.\")\n",
    "    elif guess < answer:\n",
    "        attempts -= 1\n",
    "        print(f\"higher than {guess}, {attempts} lives left.\")\n",
    "    else:\n",
    "        print(\"Correct!\")\n",
    "        should_continue = False\n",
    "\n",
    "if attempts > 0:\n",
    "    print(f\"You got it. The answer is {answer}\")\n",
    "else:\n",
    "    print(\"You lose\")\n",
    "\n"
   ]
  }
 ],
 "metadata": {
  "kernelspec": {
   "display_name": "base",
   "language": "python",
   "name": "python3"
  },
  "language_info": {
   "codemirror_mode": {
    "name": "ipython",
    "version": 3
   },
   "file_extension": ".py",
   "mimetype": "text/x-python",
   "name": "python",
   "nbconvert_exporter": "python",
   "pygments_lexer": "ipython3",
   "version": "3.9.13"
  },
  "orig_nbformat": 4,
  "vscode": {
   "interpreter": {
    "hash": "dc898a6ec5997a81518b8543fd1b27667e8f1202cf4e7e6728c1345a7729fd5a"
   }
  }
 },
 "nbformat": 4,
 "nbformat_minor": 2
}
