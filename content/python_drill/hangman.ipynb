{
  "cells": [
    {
      "cell_type": "code",
      "execution_count": 15,
      "metadata": {
        "trusted": true
      },
      "outputs": [
        {
          "name": "stdout",
          "output_type": "stream",
          "text": [
            "pssst, the chosen word is baboon\n"
          ]
        }
      ],
      "source": [
        "import random\n",
        "\n",
        "word_list = [\"aardvark\", \"baboon\", \"camel\"]\n",
        "chosen_word = random.choice(word_list)\n",
        "word_length = len(chosen_word)\n",
        "life = 6\n",
        "\n",
        "print(f\"pssst, the chosen word is {chosen_word}\")\n",
        "display = [\"_\"] * word_length\n"
      ]
    },
    {
      "cell_type": "code",
      "execution_count": 16,
      "metadata": {},
      "outputs": [
        {
          "name": "stdout",
          "output_type": "stream",
          "text": [
            "5\n",
            "['_', '_', '_', '_', '_', '_']\n",
            "4\n",
            "['_', '_', '_', '_', '_', '_']\n",
            "4\n",
            "['_', 'a', '_', '_', '_', '_']\n",
            "3\n",
            "['_', 'a', '_', '_', '_', '_']\n",
            "2\n",
            "['_', 'a', '_', '_', '_', '_']\n",
            "1\n",
            "['_', 'a', '_', '_', '_', '_']\n",
            "0\n",
            "['_', 'a', '_', '_', '_', '_']\n",
            "You lose\n"
          ]
        }
      ],
      "source": [
        "while life > 0 and '_' in display:\n",
        "    guess = input(\"Guess a letter: \").lower()\n",
        "    is_matched = False\n",
        "    for index in range(word_length):\n",
        "        if chosen_word[index] == guess:\n",
        "            display[index] = guess\n",
        "            is_matched = True\n",
        "    if not is_matched:\n",
        "        life -= 1\n",
        "    print(life)\n",
        "    print(display)\n",
        "\n",
        "if life > 0:\n",
        "    print(\"You win\")\n",
        "else:\n",
        "    print(\"You lose\")"
      ]
    }
  ],
  "metadata": {
    "kernelspec": {
      "display_name": "base",
      "language": "python",
      "name": "python3"
    },
    "language_info": {
      "codemirror_mode": {
        "name": "ipython",
        "version": 3
      },
      "file_extension": ".py",
      "mimetype": "text/x-python",
      "name": "python",
      "nbconvert_exporter": "python",
      "pygments_lexer": "ipython3",
      "version": "3.9.13"
    },
    "orig_nbformat": 4,
    "vscode": {
      "interpreter": {
        "hash": "dc898a6ec5997a81518b8543fd1b27667e8f1202cf4e7e6728c1345a7729fd5a"
      }
    }
  },
  "nbformat": 4,
  "nbformat_minor": 4
}
