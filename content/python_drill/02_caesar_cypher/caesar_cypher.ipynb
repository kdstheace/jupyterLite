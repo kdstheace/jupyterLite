{
  "cells": [
    {
      "cell_type": "code",
      "execution_count": 3,
      "metadata": {},
      "outputs": [
        {
          "name": "stdout",
          "output_type": "stream",
          "text": [
            "The decoded text is hello\n"
          ]
        }
      ],
      "source": [
        "alphabet = ['a', 'b', 'c', 'd', 'e', 'f', 'g', 'h', 'i', 'j', 'k', 'l', 'm', 'n', 'o', 'p', 'q', 'r', 's', 't', 'u', 'v', 'w', 'x', 'y', 'z'\n",
        ", 'a', 'b', 'c', 'd', 'e', 'f', 'g', 'h', 'i', 'j', 'k', 'l', 'm', 'n', 'o', 'p', 'q', 'r', 's', 't', 'u', 'v', 'w', 'x', 'y', 'z']\n",
        "\n",
        "direction = input(\"Type 'encode' to encrypt, type 'decode' to decrypt:\\n\")\n",
        "text = input(\"Type your message:\\n\").lower()\n",
        "shift = int(input(\"Type the shift number:\\n\"))\n",
        "\n",
        "#TODO-1: Combine the encrypt() and decrypt() functions into a single function called caesar(). \n",
        "def caesar(given_text, shift_amount, cipher_direction):\n",
        "    result_text = \"\"\n",
        "    if cipher_direction == \"decode\":\n",
        "        shift_amount *= -1\n",
        "    for letter in given_text:\n",
        "        new_index = alphabet.index(letter) + shift_amount\n",
        "        result_text += alphabet[new_index]\n",
        "        \n",
        "    print(f\"The {cipher_direction}d text is {result_text}\")\n",
        "\n",
        "    \n",
        "\n",
        "#TODO-2: Call the caesar() function, passing over the 'text', 'shift' and 'direction' values.\n",
        "type = \"yes\"\n",
        "while type == \"yes\":\n",
        "    caesar(given_text = text, shift_amount = shift, cipher_direction = direction)\n",
        "    "
      ]
    }
  ],
  "metadata": {
    "kernelspec": {
      "display_name": "base",
      "language": "python",
      "name": "python3"
    },
    "language_info": {
      "codemirror_mode": {
        "name": "ipython",
        "version": 3
      },
      "file_extension": ".py",
      "mimetype": "text/x-python",
      "name": "python",
      "nbconvert_exporter": "python",
      "pygments_lexer": "ipython3",
      "version": "3.9.13"
    },
    "orig_nbformat": 4,
    "vscode": {
      "interpreter": {
        "hash": "dc898a6ec5997a81518b8543fd1b27667e8f1202cf4e7e6728c1345a7729fd5a"
      }
    }
  },
  "nbformat": 4,
  "nbformat_minor": 4
}
